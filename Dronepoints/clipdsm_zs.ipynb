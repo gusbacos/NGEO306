{
 "cells": [
  {
   "cell_type": "code",
   "execution_count": null,
   "metadata": {},
   "outputs": [],
   "source": [
    "import geopandas as gpd                # to read vector files (based on ogr)\n",
    "import pandas as pd                    # to read .txt and manipulate data\n",
    "from rasterstats import zonal_stats    # to conduct calculations on our rasters\n",
    "import rasterio                        # To open and up .tif (Based on Gdal)\n",
    "from rasterio.plot import show         # To visualise .tif opened up by rasterio"
   ]
  },
  {
   "cell_type": "markdown",
   "metadata": {},
   "source": [
    "## Set paths to files and read them using geopandas (gpd) and rasterio"
   ]
  },
  {
   "cell_type": "code",
   "execution_count": null,
   "metadata": {},
   "outputs": [],
   "source": [
    "dsm_file = 'DSM_LondonCity_1m.tif'\n",
    "shp_file = 'drone_pos_32631.gml'\n",
    "\n",
    "# to open a shapefile in Geopandas use gpd.read_file(Path_to_file)\n",
    "drones = gpd.read_file(shp_file)\n",
    "\n",
    "# to open a .tif file in rasterio use gpd.open(Path_to_file)\n",
    "dsm = rasterio.open(dsm_file)\n",
    "\n",
    "# print to check that the coordinate system for our files matches!\n",
    "# If True, we are good to go.\n",
    "drones.crs == dsm.crs "
   ]
  },
  {
   "cell_type": "markdown",
   "metadata": {},
   "source": [
    "#### Not sure what the warning actually mean. Others seems to have got this issue, but it does not seem to affect the preformance that much"
   ]
  },
  {
   "cell_type": "code",
   "execution_count": null,
   "metadata": {},
   "outputs": [],
   "source": [
    "# print to se what is inside drones. .head() prints out only 5 first rows. .tail() will print last 5\n",
    "drones.info()\n",
    "\n",
    "drones.head()"
   ]
  },
  {
   "cell_type": "markdown",
   "metadata": {},
   "source": [
    "## Use .drop(columns=(' ') to remove columns we do not need"
   ]
  },
  {
   "cell_type": "code",
   "execution_count": null,
   "metadata": {},
   "outputs": [],
   "source": [
    "drones = drones.drop(columns=(['fid', 'left','top','right','bottom']))\n",
    "drones.head()"
   ]
  },
  {
   "cell_type": "markdown",
   "metadata": {},
   "source": [
    "# Plot DSM and points"
   ]
  },
  {
   "cell_type": "code",
   "execution_count": null,
   "metadata": {},
   "outputs": [],
   "source": [
    "show(dsm)\n",
    "# With Show() you can also add titles and change colors etc. like this below\n",
    "#show(dsm_show, title='DSM London', cmap = 'terrain_r') "
   ]
  },
  {
   "cell_type": "code",
   "execution_count": null,
   "metadata": {},
   "outputs": [],
   "source": [
    "# To plot the dronepoints just use .plot()\n",
    "# This will probably not say that much as you just see the points\n",
    "drones.plot(figsize = (10,10), markersize = 10, column = 'id', cmap = 'rainbow')\n",
    "show(dsm)\n"
   ]
  },
  {
   "cell_type": "markdown",
   "metadata": {},
   "source": [
    "## use geopandas built-in function buffer to buffer around points. "
   ]
  },
  {
   "cell_type": "code",
   "execution_count": null,
   "metadata": {
    "scrolled": true
   },
   "outputs": [],
   "source": [
    "# Settings for buffer\n",
    "style = 3 # 1 circle 3 square\n",
    "radius = 100. # for float\n",
    "\n",
    "# Buffer around points using 'geometry' colums. Call the new buffered geometry 'buff'\n",
    "drones['buff'] = drones['geometry'].buffer(radius, cap_style=style)\n",
    "drones"
   ]
  },
  {
   "cell_type": "markdown",
   "metadata": {},
   "source": [
    "## Visualise buffers on Dsm\n"
   ]
  },
  {
   "cell_type": "code",
   "execution_count": null,
   "metadata": {},
   "outputs": [],
   "source": [
    "ax = drones['buff'].plot(facecolor = 'none' , edgecolor='white', figsize = (15,8)).axis('off')\n",
    "show(dsm)\n",
    "\n",
    "# Try changing to another buffer size and see the *"
   ]
  },
  {
   "cell_type": "markdown",
   "metadata": {},
   "source": [
    "## Calculate zonal statistics for each buffer zone using rasterstats zonal_stats()\n",
    "\n",
    "### Furter information on rasterstats https://pythonhosted.org/rasterstats/\n"
   ]
  },
  {
   "cell_type": "code",
   "execution_count": null,
   "metadata": {
    "scrolled": false
   },
   "outputs": [],
   "source": [
    "# zonal_stats can calculate a lot of things. just chose the ones you want\n",
    "# if stats is not specified as zonal_stats(shapefile, raster), count, min, max and mean is calculated  \n",
    "\n",
    "# .loc[0] to select row index 0, in this case to not to have zonal_statistics printed for all rows\n",
    "\n",
    "zonal_stats(drones.loc[0,['buff']],dsm_file, \n",
    "            stats = ['count', 'min', 'max', 'mean', 'sum', 'std', 'median', \n",
    "                     'majority', 'minority', 'unique', 'range', 'nodata', 'nan'])\n"
   ]
  },
  {
   "cell_type": "markdown",
   "metadata": {},
   "source": [
    "## Join zonal_statistics to drone dataframe"
   ]
  },
  {
   "cell_type": "code",
   "execution_count": null,
   "metadata": {},
   "outputs": [],
   "source": [
    "# Create a new dataframe (drones_zonal_stats) \n",
    "# .join() join dataframe with other dataframe\n",
    "# zonal_stats(drones['buff'], dsm) Calculates min, max, mean, count for each buffer zone from the raster\n",
    "\n",
    "drones_zonal_stats = drones.join(pd.DataFrame(zonal_stats(drones['buff'],dsm_file)))\n",
    "\n",
    "drones_zonal_stats.head()\n"
   ]
  },
  {
   "cell_type": "markdown",
   "metadata": {},
   "source": [
    "## Plot mean height from zonal statistics. Change geometry column to buffer instead of point\n"
   ]
  },
  {
   "cell_type": "code",
   "execution_count": null,
   "metadata": {},
   "outputs": [],
   "source": [
    "drones_zonal_stats.set_geometry('geometry').plot(\n",
    "    column = 'mean', cmap = 'coolwarm', figsize = (10,6), legend = True).axis('off')\n",
    "show(dsm)"
   ]
  },
  {
   "cell_type": "markdown",
   "metadata": {},
   "source": [
    "## Print to .txt using specified columns"
   ]
  },
  {
   "cell_type": "code",
   "execution_count": null,
   "metadata": {
    "scrolled": true
   },
   "outputs": [],
   "source": [
    "# sep = sets separator\n",
    "# float_format sets numbers of decimals\n",
    "\n",
    "# .to_csv('filename.txt', sep = 'separator of choice', float_format = '%.numberf')\n",
    "\n",
    "drones_zonal_stats.set_index('id')[['mean','min','max']].to_csv('droneheight_jupyter.txt',\n",
    "                                                                sep = '\\t',float_format = '%.3f')\n",
    "\n",
    "pd.read_csv('droneheight_jupyter.txt', sep = '\\t', index_col = 'id')"
   ]
  },
  {
   "cell_type": "markdown",
   "metadata": {},
   "source": [
    "## Create a shapefile or other filetype from zonal statistics using geopandas"
   ]
  },
  {
   "cell_type": "code",
   "execution_count": null,
   "metadata": {},
   "outputs": [],
   "source": [
    "gpd.GeoDataFrame(drones_zonal_stats[['mean','min','max','buff']], geometry='buff').to_file('drone_zonal_stats.shp')\n",
    "\n",
    "gpd.read_file('drone_zonal_stats.shp').plot(column='mean').axis('off')\n",
    "show(dsm)"
   ]
  },
  {
   "cell_type": "markdown",
   "metadata": {},
   "source": [
    "# Here is a shortened version of the same script"
   ]
  },
  {
   "cell_type": "code",
   "execution_count": null,
   "metadata": {},
   "outputs": [],
   "source": [
    "import geopandas as gpd\n",
    "import pandas as pd\n",
    "from rasterstats import zonal_stats\n",
    "\n",
    "\n",
    "# Inputs\n",
    "dsm = 'DSM_LondonCity_1m.tif'\n",
    "vectorlayer = 'drone_pos_32631.gml'\n",
    "drones = gpd.read_file(vectorlayer)\n",
    "\n",
    "# Set radius and syle for buffer \n",
    "style = 3 # 1 circle 3 square\n",
    "radius = 100.\n",
    "\n",
    "# Buffer point\n",
    "drones['buff'] = drones['geometry'].buffer(radius, cap_style = 3)\n",
    "\n",
    "# Calculate mean min max count (zonal statistics using the created buffer\")\n",
    "drones_zonal_stats = drones.join(pd.DataFrame(zonal_stats(drones['buff'],dsm)))\n",
    "\n",
    "# Print to txt file for columns: mean, min , max with tab-seperator\n",
    "drones_zonal_stats.set_index('id')[['mean','min','max']].to_csv('droneheight_gpd_rasterio.txt', sep = '\\t')\n"
   ]
  },
  {
   "cell_type": "code",
   "execution_count": null,
   "metadata": {},
   "outputs": [],
   "source": []
  }
 ],
 "metadata": {
  "hide_input": false,
  "kernelspec": {
   "display_name": "Python 3.9.13 ('geo_py')",
   "language": "python",
   "name": "python3"
  },
  "language_info": {
   "codemirror_mode": {
    "name": "ipython",
    "version": 3
   },
   "file_extension": ".py",
   "mimetype": "text/x-python",
   "name": "python",
   "nbconvert_exporter": "python",
   "pygments_lexer": "ipython3",
   "version": "3.9.13"
  },
  "toc": {
   "base_numbering": 1,
   "nav_menu": {},
   "number_sections": true,
   "sideBar": true,
   "skip_h1_title": false,
   "title_cell": "Table of Contents",
   "title_sidebar": "Contents",
   "toc_cell": false,
   "toc_position": {},
   "toc_section_display": true,
   "toc_window_display": false
  },
  "varInspector": {
   "cols": {
    "lenName": 16,
    "lenType": 16,
    "lenVar": 40
   },
   "kernels_config": {
    "python": {
     "delete_cmd_postfix": "",
     "delete_cmd_prefix": "del ",
     "library": "var_list.py",
     "varRefreshCmd": "print(var_dic_list())"
    },
    "r": {
     "delete_cmd_postfix": ") ",
     "delete_cmd_prefix": "rm(",
     "library": "var_list.r",
     "varRefreshCmd": "cat(var_dic_list()) "
    }
   },
   "types_to_exclude": [
    "module",
    "function",
    "builtin_function_or_method",
    "instance",
    "_Feature"
   ],
   "window_display": false
  },
  "vscode": {
   "interpreter": {
    "hash": "a69ed4c02085f8c1c49d4eb60dfd4adb640c94bd29832c3d00b17ad040411db5"
   }
  }
 },
 "nbformat": 4,
 "nbformat_minor": 2
}
